{
  "nbformat": 4,
  "nbformat_minor": 0,
  "metadata": {
    "colab": {
      "name": "Clusterer.ipynb",
      "provenance": [],
      "authorship_tag": "ABX9TyMDiGZgcw5fbw3fOuL8eUWb",
      "include_colab_link": true
    },
    "kernelspec": {
      "name": "python3",
      "display_name": "Python 3"
    }
  },
  "cells": [
    {
      "cell_type": "markdown",
      "metadata": {
        "id": "view-in-github",
        "colab_type": "text"
      },
      "source": [
        "<a href=\"https://colab.research.google.com/github/MohitBurkule/Clusterer/blob/main/Clusterer.ipynb\" target=\"_parent\"><img src=\"https://colab.research.google.com/assets/colab-badge.svg\" alt=\"Open In Colab\"/></a>"
      ]
    },
    {
      "cell_type": "code",
      "metadata": {
        "id": "DSbbJgGp5siV"
      },
      "source": [
        "import clusterer as cmodel\r\n",
        "plt=cmodel.get_elbow(X_df,min,max)# also get counts stacked bar chart\r\n",
        "cmodel.cluster(X_df,clusteres,method,dist_metric,cluster_cols,output_cols,col_weights,return_type={\"cluster_list\",\"cols\",\"model\"} ,inplace)\r\n",
        "df_list=cmodel.get_cluster_dflist()\r\n",
        "cmodel.get_cluster_counts()\r\n",
        "cmodel2=cmodel.re.cluster(X_list_id,clusteres,method,dist_metric,cluster_cols,output_cols,col_weights,return_type={\"cluster_list\",\"cols\",\"model\"} ,inplace)\r\n",
        "cmodel.re.get_elbow(X_list_id,min,max)\r\n"
      ],
      "execution_count": null,
      "outputs": []
    },
    {
      "cell_type": "code",
      "metadata": {
        "id": "a5Tsb7RynRNB"
      },
      "source": [
        "class clusterer_help:\r\n",
        "  def __init__(self):\r\n",
        "    pass\r\n",
        "  def pd_df_valid(self,pd):\r\n",
        "    assert True,\"Need a pandas dataframe as input\"\r\n",
        "    \r\n",
        "  def pd_df_list_valid(self,x_df_id):\r\n",
        "    assert True,\"Need a valid id\"\r\n",
        "\r\n",
        "  def recluster_valid(self,class_valid):\r\n",
        "    assert class_valid,\"Please call cluster before re-clustering\"\r\n",
        "  \r\n",
        "  def set_recluster_valid(self,re):\r\n",
        "    re.class_valid=True\r\n",
        "    return re\r\n",
        "\r\n",
        "  def df_keep_cols(self,df,cols_to_keep):\r\n",
        "    df=df[cols_to_keep]\r\n",
        "    return df\r\n",
        "  \r\n",
        "\r\n",
        "  def actual_cluster_and_insert_cols(self,x,out_df,clusters,method):\r\n",
        "    \"\"\"\r\n",
        "    method param ignored\r\n",
        "    \"\"\"\r\n",
        "    from sklearn.cluster import KMeans\r\n",
        "    model=KMeans(n_clusters=clusters, init='k-means++', n_init=10, max_iter=300,\r\n",
        "                 tol=0.0001, verbose=0, random_state=None, \r\n",
        "                 copy_x=True, algorithm='auto')\r\n",
        "    \r\n",
        "    pred=model.fit_predict(x)\r\n",
        "    y=pd.Series(pred,name=\"cluster\",index=x.index)\r\n",
        "    print(pd.concat([x,y],1))\r\n",
        "    x_c=pd.concat([out_df,y],1)\r\n",
        "    print(x_c[\"cluster\"].value_counts())\r\n",
        "    x_part=[]\r\n",
        "    for i in range(0,clusters):\r\n",
        "      x_part.append(x_c[x_c.cluster==i].drop('cluster',1))\r\n",
        "    df_parts=x_part\r\n",
        "    return model,y,df_parts\r\n",
        "  \r\n",
        "  def get_new_ids(self,inter_id_list,clusters):\r\n",
        "    return id_list\r\n"
      ],
      "execution_count": 67,
      "outputs": []
    },
    {
      "cell_type": "code",
      "metadata": {
        "id": "R-44TlCSnUDn"
      },
      "source": [
        "class reclusterer:\r\n",
        "  ch=clusterer_help()\r\n",
        "  def __init__(self):\r\n",
        "    self.class_valid=False\r\n",
        "    pass\r\n",
        "\r\n",
        "  def cluster(self,x_df_id,clusters=8,method=\"kmeans\",dist_metric=\"eucladian\",cluster_cols=\"all\",output_cols=\"all\",col_weights=None,return_type=\"clusters_assigned\",inplace=None):  \r\n",
        "    self.ch.recluster_valid(self.class_valid)\r\n",
        "    self.ch.pd_df_list_valid(x_df_id)\r\n",
        "\r\n"
      ],
      "execution_count": null,
      "outputs": []
    },
    {
      "cell_type": "code",
      "metadata": {
        "id": "atbFHTQmH37E"
      },
      "source": [
        "class clusterer:\r\n",
        "  ch=clusterer_help()\r\n",
        "  def __init__(self):\r\n",
        "    self.id_model=dict()\r\n",
        "    self.id_ids=dict()\r\n",
        "    self.id_df=dict()\r\n",
        "    self.inter_id_list=[]\r\n",
        "    self.terminal_id_list=[]\r\n",
        "    self.re=reclusterer()\r\n",
        "\r\n",
        "  def cluster(self,x_df,clusters=8,method=\"kmeans\",dist_metric=\"eucladian\",cluster_cols=\"all\",output_cols=\"all\",col_weights=None,return_type=\"clusters_assigned\",inplace=None):\r\n",
        "    ch=self.ch\r\n",
        "    ch.pd_df_valid(x_df)\r\n",
        "    \r\n",
        "    if(cluster_cols==\"all\"):\r\n",
        "      cluster_cols=x_df.columns\r\n",
        "    if(output_cols==\"all\"):\r\n",
        "      output_cols=x_df.columns\r\n",
        "    #check if clustercols, outputcols are valid lists\r\n",
        "\r\n",
        "    df=ch.df_keep_cols(x_df,cluster_cols)\r\n",
        "    out_df=ch.df_keep_cols(x_df,output_cols)\r\n",
        "    \r\n",
        "    model,y,df_parts=ch.actual_cluster_and_insert_cols(df,out_df,clusters,method)\r\n",
        "    \r\n",
        "\r\n",
        "    self.inter_id_list.append(0)\r\n",
        "    self.terminal_id_list.append(0)\r\n",
        "    \r\n",
        "    new_ids=ch.get_new_ids(self.inter_id_list,clusters)\r\n",
        "    \r\n",
        "    self.id_model[0]=model\r\n",
        "    self.id_ids[0]=tuple(new_ids)\r\n",
        "    self.id_df[0]=x_df\r\n",
        "    \r\n",
        "    for i in range(0,ids):\r\n",
        "      self.id_df[ids[i]]=df_parts[i]\r\n",
        "      self.terminal_id_list.append(ids[i])\r\n",
        "    self.terminal_id_list.remove(0)\r\n",
        "\r\n",
        "    ch.set_recluster_valid(self.re)\r\n",
        "\r\n",
        "\r\n",
        "\r\n"
      ],
      "execution_count": 62,
      "outputs": []
    },
    {
      "cell_type": "code",
      "metadata": {
        "id": "K8eyNjpvlaWo"
      },
      "source": [
        "import numpy as np\r\n",
        "import pandas as pd\r\n",
        "from sklearn.datasets import load_iris\r\n",
        "\r\n",
        "iris = load_iris()\r\n",
        "\r\n",
        "data1 = pd.DataFrame(data= np.c_[iris['data'], iris['target']],columns= iris['feature_names'] + ['target'])"
      ],
      "execution_count": 63,
      "outputs": []
    },
    {
      "cell_type": "code",
      "metadata": {
        "colab": {
          "base_uri": "https://localhost:8080/",
          "height": 414
        },
        "id": "-zCjrQcWlejW",
        "outputId": "e48483e4-9ac1-496a-d9fa-4ba02b728ea3"
      },
      "source": [
        "data1"
      ],
      "execution_count": 64,
      "outputs": [
        {
          "output_type": "execute_result",
          "data": {
            "text/html": [
              "<div>\n",
              "<style scoped>\n",
              "    .dataframe tbody tr th:only-of-type {\n",
              "        vertical-align: middle;\n",
              "    }\n",
              "\n",
              "    .dataframe tbody tr th {\n",
              "        vertical-align: top;\n",
              "    }\n",
              "\n",
              "    .dataframe thead th {\n",
              "        text-align: right;\n",
              "    }\n",
              "</style>\n",
              "<table border=\"1\" class=\"dataframe\">\n",
              "  <thead>\n",
              "    <tr style=\"text-align: right;\">\n",
              "      <th></th>\n",
              "      <th>sepal length (cm)</th>\n",
              "      <th>sepal width (cm)</th>\n",
              "      <th>petal length (cm)</th>\n",
              "      <th>petal width (cm)</th>\n",
              "      <th>target</th>\n",
              "    </tr>\n",
              "  </thead>\n",
              "  <tbody>\n",
              "    <tr>\n",
              "      <th>0</th>\n",
              "      <td>5.1</td>\n",
              "      <td>3.5</td>\n",
              "      <td>1.4</td>\n",
              "      <td>0.2</td>\n",
              "      <td>0.0</td>\n",
              "    </tr>\n",
              "    <tr>\n",
              "      <th>1</th>\n",
              "      <td>4.9</td>\n",
              "      <td>3.0</td>\n",
              "      <td>1.4</td>\n",
              "      <td>0.2</td>\n",
              "      <td>0.0</td>\n",
              "    </tr>\n",
              "    <tr>\n",
              "      <th>2</th>\n",
              "      <td>4.7</td>\n",
              "      <td>3.2</td>\n",
              "      <td>1.3</td>\n",
              "      <td>0.2</td>\n",
              "      <td>0.0</td>\n",
              "    </tr>\n",
              "    <tr>\n",
              "      <th>3</th>\n",
              "      <td>4.6</td>\n",
              "      <td>3.1</td>\n",
              "      <td>1.5</td>\n",
              "      <td>0.2</td>\n",
              "      <td>0.0</td>\n",
              "    </tr>\n",
              "    <tr>\n",
              "      <th>4</th>\n",
              "      <td>5.0</td>\n",
              "      <td>3.6</td>\n",
              "      <td>1.4</td>\n",
              "      <td>0.2</td>\n",
              "      <td>0.0</td>\n",
              "    </tr>\n",
              "    <tr>\n",
              "      <th>...</th>\n",
              "      <td>...</td>\n",
              "      <td>...</td>\n",
              "      <td>...</td>\n",
              "      <td>...</td>\n",
              "      <td>...</td>\n",
              "    </tr>\n",
              "    <tr>\n",
              "      <th>145</th>\n",
              "      <td>6.7</td>\n",
              "      <td>3.0</td>\n",
              "      <td>5.2</td>\n",
              "      <td>2.3</td>\n",
              "      <td>2.0</td>\n",
              "    </tr>\n",
              "    <tr>\n",
              "      <th>146</th>\n",
              "      <td>6.3</td>\n",
              "      <td>2.5</td>\n",
              "      <td>5.0</td>\n",
              "      <td>1.9</td>\n",
              "      <td>2.0</td>\n",
              "    </tr>\n",
              "    <tr>\n",
              "      <th>147</th>\n",
              "      <td>6.5</td>\n",
              "      <td>3.0</td>\n",
              "      <td>5.2</td>\n",
              "      <td>2.0</td>\n",
              "      <td>2.0</td>\n",
              "    </tr>\n",
              "    <tr>\n",
              "      <th>148</th>\n",
              "      <td>6.2</td>\n",
              "      <td>3.4</td>\n",
              "      <td>5.4</td>\n",
              "      <td>2.3</td>\n",
              "      <td>2.0</td>\n",
              "    </tr>\n",
              "    <tr>\n",
              "      <th>149</th>\n",
              "      <td>5.9</td>\n",
              "      <td>3.0</td>\n",
              "      <td>5.1</td>\n",
              "      <td>1.8</td>\n",
              "      <td>2.0</td>\n",
              "    </tr>\n",
              "  </tbody>\n",
              "</table>\n",
              "<p>150 rows × 5 columns</p>\n",
              "</div>"
            ],
            "text/plain": [
              "     sepal length (cm)  sepal width (cm)  ...  petal width (cm)  target\n",
              "0                  5.1               3.5  ...               0.2     0.0\n",
              "1                  4.9               3.0  ...               0.2     0.0\n",
              "2                  4.7               3.2  ...               0.2     0.0\n",
              "3                  4.6               3.1  ...               0.2     0.0\n",
              "4                  5.0               3.6  ...               0.2     0.0\n",
              "..                 ...               ...  ...               ...     ...\n",
              "145                6.7               3.0  ...               2.3     2.0\n",
              "146                6.3               2.5  ...               1.9     2.0\n",
              "147                6.5               3.0  ...               2.0     2.0\n",
              "148                6.2               3.4  ...               2.3     2.0\n",
              "149                5.9               3.0  ...               1.8     2.0\n",
              "\n",
              "[150 rows x 5 columns]"
            ]
          },
          "metadata": {
            "tags": []
          },
          "execution_count": 64
        }
      ]
    },
    {
      "cell_type": "code",
      "metadata": {
        "id": "I900lm5_lpX3"
      },
      "source": [
        "ch=clusterer_help()"
      ],
      "execution_count": 65,
      "outputs": []
    },
    {
      "cell_type": "code",
      "metadata": {
        "colab": {
          "base_uri": "https://localhost:8080/"
        },
        "id": "1QtO2Bgalsim",
        "outputId": "707d76a4-0dd3-451d-95ff-9f3295fa152e"
      },
      "source": [
        "df=ch.df_keep_cols(data1,[\"sepal width (cm)\",\"sepal length (cm)\"])\r\n",
        "out_df=ch.df_keep_cols(data1,[\"petal width (cm)\",\"petal length (cm)\"])\r\n",
        "model,y,df_parts=ch.actual_cluster_and_insert_cols(df,out_df,2,\"method\")\r\n",
        "df_parts"
      ],
      "execution_count": 66,
      "outputs": [
        {
          "output_type": "stream",
          "text": [
            "     sepal width (cm)  sepal length (cm)  cluster\n",
            "0                 3.5                5.1        1\n",
            "1                 3.0                4.9        1\n",
            "2                 3.2                4.7        1\n",
            "3                 3.1                4.6        1\n",
            "4                 3.6                5.0        1\n",
            "..                ...                ...      ...\n",
            "145               3.0                6.7        0\n",
            "146               2.5                6.3        0\n",
            "147               3.0                6.5        0\n",
            "148               3.4                6.2        0\n",
            "149               3.0                5.9        1\n",
            "\n",
            "[150 rows x 3 columns]\n",
            "1    83\n",
            "0    67\n",
            "Name: cluster, dtype: int64\n"
          ],
          "name": "stdout"
        },
        {
          "output_type": "execute_result",
          "data": {
            "text/plain": [
              "[     petal width (cm)  petal length (cm)\n",
              " 50                1.4                4.7\n",
              " 51                1.5                4.5\n",
              " 52                1.5                4.9\n",
              " 54                1.5                4.6\n",
              " 56                1.6                4.7\n",
              " ..                ...                ...\n",
              " 144               2.5                5.7\n",
              " 145               2.3                5.2\n",
              " 146               1.9                5.0\n",
              " 147               2.0                5.2\n",
              " 148               2.3                5.4\n",
              " \n",
              " [67 rows x 2 columns],      petal width (cm)  petal length (cm)\n",
              " 0                 0.2                1.4\n",
              " 1                 0.2                1.4\n",
              " 2                 0.2                1.3\n",
              " 3                 0.2                1.5\n",
              " 4                 0.2                1.4\n",
              " ..                ...                ...\n",
              " 113               2.0                5.0\n",
              " 114               2.4                5.1\n",
              " 121               2.0                4.9\n",
              " 142               1.9                5.1\n",
              " 149               1.8                5.1\n",
              " \n",
              " [83 rows x 2 columns]]"
            ]
          },
          "metadata": {
            "tags": []
          },
          "execution_count": 66
        }
      ]
    },
    {
      "cell_type": "code",
      "metadata": {
        "id": "kJ9GAQD9KPh6"
      },
      "source": [
        "cmodel=clusterer()"
      ],
      "execution_count": 37,
      "outputs": []
    },
    {
      "cell_type": "code",
      "metadata": {
        "id": "59Wp87-AK9yZ"
      },
      "source": [
        "#cmodel.cluster(1)"
      ],
      "execution_count": 38,
      "outputs": []
    },
    {
      "cell_type": "code",
      "metadata": {
        "colab": {
          "base_uri": "https://localhost:8080/",
          "height": 311
        },
        "id": "h_vTsbEwLBt6",
        "outputId": "4ebc470b-2f88-4abd-8949-4f00f312077f"
      },
      "source": [
        "cmodel.re.cluster(1)"
      ],
      "execution_count": 39,
      "outputs": [
        {
          "output_type": "error",
          "ename": "AssertionError",
          "evalue": "ignored",
          "traceback": [
            "\u001b[0;31m---------------------------------------------------------------------------\u001b[0m",
            "\u001b[0;31mAssertionError\u001b[0m                            Traceback (most recent call last)",
            "\u001b[0;32m<ipython-input-39-09a3d32e5b89>\u001b[0m in \u001b[0;36m<module>\u001b[0;34m()\u001b[0m\n\u001b[0;32m----> 1\u001b[0;31m \u001b[0mcmodel\u001b[0m\u001b[0;34m.\u001b[0m\u001b[0mre\u001b[0m\u001b[0;34m.\u001b[0m\u001b[0mcluster\u001b[0m\u001b[0;34m(\u001b[0m\u001b[0;36m1\u001b[0m\u001b[0;34m)\u001b[0m\u001b[0;34m\u001b[0m\u001b[0;34m\u001b[0m\u001b[0m\n\u001b[0m",
            "\u001b[0;32m<ipython-input-33-4264516aeb29>\u001b[0m in \u001b[0;36mcluster\u001b[0;34m(self, x_df_id, clusters, method, dist_metric, cluster_cols, output_cols, col_weights, return_type, inplace)\u001b[0m\n\u001b[1;32m     22\u001b[0m \u001b[0;34m\u001b[0m\u001b[0m\n\u001b[1;32m     23\u001b[0m   \u001b[0;32mdef\u001b[0m \u001b[0mcluster\u001b[0m\u001b[0;34m(\u001b[0m\u001b[0mself\u001b[0m\u001b[0;34m,\u001b[0m\u001b[0mx_df_id\u001b[0m\u001b[0;34m,\u001b[0m\u001b[0mclusters\u001b[0m\u001b[0;34m=\u001b[0m\u001b[0;36m8\u001b[0m\u001b[0;34m,\u001b[0m\u001b[0mmethod\u001b[0m\u001b[0;34m=\u001b[0m\u001b[0;34m\"kmeans\"\u001b[0m\u001b[0;34m,\u001b[0m\u001b[0mdist_metric\u001b[0m\u001b[0;34m=\u001b[0m\u001b[0;34m\"eucladian\"\u001b[0m\u001b[0;34m,\u001b[0m\u001b[0mcluster_cols\u001b[0m\u001b[0;34m=\u001b[0m\u001b[0;34m\"all\"\u001b[0m\u001b[0;34m,\u001b[0m\u001b[0moutput_cols\u001b[0m\u001b[0;34m=\u001b[0m\u001b[0;34m\"all\"\u001b[0m\u001b[0;34m,\u001b[0m\u001b[0mcol_weights\u001b[0m\u001b[0;34m=\u001b[0m\u001b[0;32mNone\u001b[0m\u001b[0;34m,\u001b[0m\u001b[0mreturn_type\u001b[0m\u001b[0;34m=\u001b[0m\u001b[0;34m\"clusters_assigned\"\u001b[0m\u001b[0;34m,\u001b[0m\u001b[0minplace\u001b[0m\u001b[0;34m=\u001b[0m\u001b[0;32mNone\u001b[0m\u001b[0;34m)\u001b[0m\u001b[0;34m:\u001b[0m\u001b[0;34m\u001b[0m\u001b[0;34m\u001b[0m\u001b[0m\n\u001b[0;32m---> 24\u001b[0;31m     \u001b[0mself\u001b[0m\u001b[0;34m.\u001b[0m\u001b[0mch\u001b[0m\u001b[0;34m.\u001b[0m\u001b[0mrecluster_valid\u001b[0m\u001b[0;34m(\u001b[0m\u001b[0mself\u001b[0m\u001b[0;34m.\u001b[0m\u001b[0mclass_valid\u001b[0m\u001b[0;34m)\u001b[0m\u001b[0;34m\u001b[0m\u001b[0;34m\u001b[0m\u001b[0m\n\u001b[0m\u001b[1;32m     25\u001b[0m     \u001b[0mself\u001b[0m\u001b[0;34m.\u001b[0m\u001b[0mch\u001b[0m\u001b[0;34m.\u001b[0m\u001b[0mpd_df_list_valid\u001b[0m\u001b[0;34m(\u001b[0m\u001b[0mx_df_id\u001b[0m\u001b[0;34m)\u001b[0m\u001b[0;34m\u001b[0m\u001b[0;34m\u001b[0m\u001b[0m\n\u001b[1;32m     26\u001b[0m \u001b[0;34m\u001b[0m\u001b[0m\n",
            "\u001b[0;32m<ipython-input-33-4264516aeb29>\u001b[0m in \u001b[0;36mrecluster_valid\u001b[0;34m(self, class_valid)\u001b[0m\n\u001b[1;32m      9\u001b[0m \u001b[0;34m\u001b[0m\u001b[0m\n\u001b[1;32m     10\u001b[0m   \u001b[0;32mdef\u001b[0m \u001b[0mrecluster_valid\u001b[0m\u001b[0;34m(\u001b[0m\u001b[0mself\u001b[0m\u001b[0;34m,\u001b[0m\u001b[0mclass_valid\u001b[0m\u001b[0;34m)\u001b[0m\u001b[0;34m:\u001b[0m\u001b[0;34m\u001b[0m\u001b[0;34m\u001b[0m\u001b[0m\n\u001b[0;32m---> 11\u001b[0;31m     \u001b[0;32massert\u001b[0m \u001b[0mclass_valid\u001b[0m\u001b[0;34m,\u001b[0m\u001b[0;34m\"Please call cluster before re-clustering\"\u001b[0m\u001b[0;34m\u001b[0m\u001b[0;34m\u001b[0m\u001b[0m\n\u001b[0m\u001b[1;32m     12\u001b[0m   \u001b[0;32mdef\u001b[0m \u001b[0mset_recluster_valid\u001b[0m\u001b[0;34m(\u001b[0m\u001b[0mself\u001b[0m\u001b[0;34m,\u001b[0m\u001b[0mre\u001b[0m\u001b[0;34m)\u001b[0m\u001b[0;34m:\u001b[0m\u001b[0;34m\u001b[0m\u001b[0;34m\u001b[0m\u001b[0m\n\u001b[1;32m     13\u001b[0m     \u001b[0mre\u001b[0m\u001b[0;34m.\u001b[0m\u001b[0mclass_valid\u001b[0m\u001b[0;34m=\u001b[0m\u001b[0;32mTrue\u001b[0m\u001b[0;34m\u001b[0m\u001b[0;34m\u001b[0m\u001b[0m\n",
            "\u001b[0;31mAssertionError\u001b[0m: Please call cluster before re-clustering"
          ]
        }
      ]
    },
    {
      "cell_type": "code",
      "metadata": {
        "id": "34eMxfQxSsxJ"
      },
      "source": [
        ""
      ],
      "execution_count": null,
      "outputs": []
    }
  ]
}